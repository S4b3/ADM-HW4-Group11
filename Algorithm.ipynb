{
 "cells": [
  {
   "cell_type": "markdown",
   "id": "74213f87-2ee2-4ddc-bbb8-f084000f4f10",
   "metadata": {},
   "source": [
    "# 3. Algorithmic questions"
   ]
  },
  {
   "cell_type": "markdown",
   "id": "358043eb-038f-4b0d-95dd-b8f67120cf8b",
   "metadata": {},
   "source": [
    "You are given a list of integers, *A*, and another integer *s*. Write an algorithm that outputs all the pairs in *A* that equal *x*.\n",
    "\n",
    "For example, if\n",
    "```\n",
    "A = [7, -2, 8, 2, 6, 4, -7, 2, 1, 3, -3] and s = 4\n",
    "```\n",
    "the algorithm should output: `(7, -3), (-2, 6), (2, 2), (3, 1)`."
   ]
  },
  {
   "cell_type": "markdown",
   "id": "36fa2547-9885-4760-bd80-8abc5f1b993c",
   "metadata": {},
   "source": [
    "### Pseudocode"
   ]
  },
  {
   "cell_type": "markdown",
   "id": "9f24fa08-0e24-4ba6-886a-1e8c5ca429de",
   "metadata": {},
   "source": [
    "```\n",
    "FindPairs(A: array; s: integer)\n",
    "    A <- sort(A)\n",
    "    start <- 1\n",
    "    end <- len(A)\n",
    "    while ( start < end ):\n",
    "        if ( A[start]+A[end] == s ):\n",
    "            print( (A[start],A[end]): tuple )\n",
    "        if ( A[start]+A[end] < s  ):\n",
    "            start <- start + 1   \n",
    "        else:\n",
    "            end <- end -1 \n",
    "```"
   ]
  },
  {
   "cell_type": "markdown",
   "id": "e5874ad2-30c8-42b8-8c34-85bd8ca53d61",
   "metadata": {},
   "source": [
    "The code is base on a binary search algorithm. \n",
    "* We first sort in crescent order the array A;\n",
    "* then start our search: if the sum of the extreme pointer to the list is equal to sum we print the tuple of number, then using the ordered array we increse/decrease one of the pointer according to we are higher or lower than the target s."
   ]
  },
  {
   "cell_type": "markdown",
   "id": "7a21d32a-fbc6-4425-b6ba-681ed5063ec9",
   "metadata": {},
   "source": [
    "__Time complexity:__\n",
    "    \n",
    "The python sort is $\\Theta(n\\log(n))$, the worst case of the while loop is when we modify only one pointer with $\\mathcal{O}(n)$.\n",
    "Then running cost of the algorithm  $\\mathcal{O}(n\\log(n))$"
   ]
  },
  {
   "cell_type": "code",
   "execution_count": 15,
   "id": "c6f606e2-18d1-4143-bd98-d82d55695a81",
   "metadata": {},
   "outputs": [],
   "source": [
    "def FindPairs(A,s):\n",
    "    A.sort()\n",
    "    start = 0\n",
    "    end = len(A)-1\n",
    "    while ( start < end ):\n",
    "        if (A[start]+A[end] == s):\n",
    "            print( (A[start],A[end]) )\n",
    "        if (A[start]+A[end] < s):\n",
    "            start = start + 1\n",
    "        else:\n",
    "            end = end -1 \n",
    "    return"
   ]
  },
  {
   "cell_type": "markdown",
   "id": "5722c172-6775-486b-9bb6-01ca7d0a7ea5",
   "metadata": {},
   "source": [
    "### Testing "
   ]
  },
  {
   "cell_type": "code",
   "execution_count": 16,
   "id": "c1c56b79-4592-45d8-a436-262e8740a561",
   "metadata": {},
   "outputs": [
    {
     "name": "stdout",
     "output_type": "stream",
     "text": [
      "(-3, 7)\n",
      "(-2, 6)\n",
      "(1, 3)\n",
      "(2, 2)\n"
     ]
    }
   ],
   "source": [
    "A = [7, -2, 8, 2, 6, 4, -7, 2, 1, 3, -3]\n",
    "s = 4\n",
    "\n",
    "FindPairs(A,s)"
   ]
  }
 ],
 "metadata": {
  "kernelspec": {
   "display_name": "Python 3 (ipykernel)",
   "language": "python",
   "name": "python3"
  },
  "language_info": {
   "codemirror_mode": {
    "name": "ipython",
    "version": 3
   },
   "file_extension": ".py",
   "mimetype": "text/x-python",
   "name": "python",
   "nbconvert_exporter": "python",
   "pygments_lexer": "ipython3",
   "version": "3.8.8"
  }
 },
 "nbformat": 4,
 "nbformat_minor": 5
}
